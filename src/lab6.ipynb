{
 "cells": [
  {
   "cell_type": "markdown",
   "metadata": {},
   "source": [
    "# Lab 6"
   ]
  },
  {
   "cell_type": "markdown",
   "metadata": {},
   "source": [
    "## Part 1"
   ]
  },
  {
   "cell_type": "markdown",
   "metadata": {},
   "source": [
    "#### Table 1. Accuracy of IBk Classification.\n",
    "| Dataset        | K=1          | k=3          | k=5          |\n",
    "| :------------: | :----------: | :----------: | :----------: |\n",
    "| letter         | 96.03        | 95.62        | 95.52        |\n",
    "| segment        | 97.14        | 96.02        | 95.06        |\n",
    "| waveform-5000  | 73.62        | 77.70        | 78.94        |\n"
   ]
  },
  {
   "cell_type": "markdown",
   "metadata": {},
   "source": [
    "Observations:\n",
    "From the observations above it can be seen that the IBk Classification accuracy of the letter dataset and the segment datatset decreases as the K-value increases, whereas the IBk Classification accuracy of the waveform-5000 dataset increases as the K-value increases."
   ]
  },
  {
   "cell_type": "markdown",
   "metadata": {},
   "source": [
    "#### Table 2. Accuracy J48 Classification.\n",
    "| Dataset        | J48 (M=2)    | J48 (M=4)    | AdaboostM1+J48|\n",
    "| :------------: | :----------: | :----------: | :-----------: |\n",
    "| letter         | 87.98        | 86.56        | 95.54         |\n",
    "| segment        | 96.93        | 96.06        | 98.53         |\n",
    "| waveform-5000  | 75.08        | 75.82        | 80.62         |\n"
   ]
  },
  {
   "cell_type": "markdown",
   "metadata": {},
   "source": [
    "Observations:\n",
    "From the observations above it can be seen that the J48 Classification accuracy of the letter dataset and the segment datatset slightly decreases as the M-value increases, whereas the J48 Classification accuracy of the waveform-5000 dataset slightly increases as the K-value increases. On the other hand, the AdaboostM1+J48 Classification accuracy is high for all three datasets."
   ]
  },
  {
   "cell_type": "markdown",
   "metadata": {},
   "source": [
    "#### Table 3. Accuracy of NaiveBayes Classification.\n",
    "| Dataset        | Accuracy(%)  |\n",
    "| :------------: | :----------: |\n",
    "| letter         | 64.12        |\n",
    "| segment        | 80.22        |\n",
    "| waveform-5000  | 80.00        | \n"
   ]
  },
  {
   "cell_type": "markdown",
   "metadata": {},
   "source": [
    "Observations:\n",
    "From the observations above it can be seen that the NaiveBayes Classification accuracy is low for the letter dataset and fairly high and similar for the segment dataset and the waveform-5000 dataset."
   ]
  },
  {
   "cell_type": "markdown",
   "metadata": {},
   "source": [
    "## Part 2"
   ]
  },
  {
   "cell_type": "markdown",
   "metadata": {},
   "source": [
    "#### Table 4. SSE of SimpleKMeans Clustering.\n",
    "| Dataset        | K=K1         | K=K2         | K=K3         |\n",
    "| :------------: | :----------: | :----------: | :----------: |\n",
    "| letter         | 16513.56     | 9824.97      | 5132.69      |\n",
    "| segment        | 2173.14      | 1296.73      | 759.97       |\n",
    "| waveform-5000  | 5465.74      | 3846.65      | 3432.81      |"
   ]
  },
  {
   "cell_type": "markdown",
   "metadata": {},
   "source": [
    "Observations:\n",
    "From the observations above it can be seen that the SimpleKMeans Clustering SSE decreases for all three datasets as the K value increases."
   ]
  },
  {
   "cell_type": "code",
   "execution_count": null,
   "metadata": {},
   "outputs": [],
   "source": []
  }
 ],
 "metadata": {
  "kernelspec": {
   "display_name": "Python 3",
   "language": "python",
   "name": "python3"
  },
  "language_info": {
   "codemirror_mode": {
    "name": "ipython",
    "version": 3
   },
   "file_extension": ".py",
   "mimetype": "text/x-python",
   "name": "python",
   "nbconvert_exporter": "python",
   "pygments_lexer": "ipython3",
   "version": "3.8.3"
  }
 },
 "nbformat": 4,
 "nbformat_minor": 4
}
