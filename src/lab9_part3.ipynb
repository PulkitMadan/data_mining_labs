{
 "cells": [
  {
   "cell_type": "markdown",
   "metadata": {},
   "source": [
    "# Lab 9"
   ]
  },
  {
   "cell_type": "code",
   "execution_count": 4,
   "metadata": {},
   "outputs": [],
   "source": [
    "import numpy as np \n",
    "import pandas as pd\n",
    "from sklearn import cluster\n",
    "import matplotlib.pyplot as plt\n",
    "from sklearn.cluster import DBSCAN\n",
    "from sklearn.neighbors import NearestNeighbors\n",
    "from scipy.spatial import distance"
   ]
  },
  {
   "cell_type": "markdown",
   "metadata": {},
   "source": [
    "## Part 3"
   ]
  },
  {
   "cell_type": "markdown",
   "metadata": {},
   "source": [
    "### Compound Dataset"
   ]
  },
  {
   "cell_type": "code",
   "execution_count": 73,
   "metadata": {},
   "outputs": [
    {
     "data": {
      "text/html": [
       "<div>\n",
       "<style scoped>\n",
       "    .dataframe tbody tr th:only-of-type {\n",
       "        vertical-align: middle;\n",
       "    }\n",
       "\n",
       "    .dataframe tbody tr th {\n",
       "        vertical-align: top;\n",
       "    }\n",
       "\n",
       "    .dataframe thead th {\n",
       "        text-align: right;\n",
       "    }\n",
       "</style>\n",
       "<table border=\"1\" class=\"dataframe\">\n",
       "  <thead>\n",
       "    <tr style=\"text-align: right;\">\n",
       "      <th></th>\n",
       "      <th>feature_1</th>\n",
       "      <th>feature_2</th>\n",
       "    </tr>\n",
       "  </thead>\n",
       "  <tbody>\n",
       "    <tr>\n",
       "      <th>0</th>\n",
       "      <td>26.75</td>\n",
       "      <td>22.15</td>\n",
       "    </tr>\n",
       "    <tr>\n",
       "      <th>1</th>\n",
       "      <td>29.80</td>\n",
       "      <td>22.15</td>\n",
       "    </tr>\n",
       "    <tr>\n",
       "      <th>2</th>\n",
       "      <td>31.55</td>\n",
       "      <td>21.10</td>\n",
       "    </tr>\n",
       "    <tr>\n",
       "      <th>3</th>\n",
       "      <td>27.70</td>\n",
       "      <td>20.85</td>\n",
       "    </tr>\n",
       "    <tr>\n",
       "      <th>4</th>\n",
       "      <td>29.90</td>\n",
       "      <td>19.95</td>\n",
       "    </tr>\n",
       "  </tbody>\n",
       "</table>\n",
       "</div>"
      ],
      "text/plain": [
       "   feature_1  feature_2\n",
       "0      26.75      22.15\n",
       "1      29.80      22.15\n",
       "2      31.55      21.10\n",
       "3      27.70      20.85\n",
       "4      29.90      19.95"
      ]
     },
     "execution_count": 73,
     "metadata": {},
     "output_type": "execute_result"
    }
   ],
   "source": [
    "#importing the data \n",
    "#Load the data\n",
    "compound_data = pd.read_csv(\"../data/compound.txt\", sep=\"\\t\", header = None)\n",
    "compound_data.columns = ['feature_1', 'feature_2', 'class']\n",
    "compound_data_new = compound_data.drop('class', axis=1)\n",
    "compound_data_new.head()"
   ]
  },
  {
   "cell_type": "code",
   "execution_count": 74,
   "metadata": {},
   "outputs": [
    {
     "data": {
      "text/html": [
       "<div>\n",
       "<style scoped>\n",
       "    .dataframe tbody tr th:only-of-type {\n",
       "        vertical-align: middle;\n",
       "    }\n",
       "\n",
       "    .dataframe tbody tr th {\n",
       "        vertical-align: top;\n",
       "    }\n",
       "\n",
       "    .dataframe thead th {\n",
       "        text-align: right;\n",
       "    }\n",
       "</style>\n",
       "<table border=\"1\" class=\"dataframe\">\n",
       "  <thead>\n",
       "    <tr style=\"text-align: right;\">\n",
       "      <th></th>\n",
       "      <th>feature_1</th>\n",
       "      <th>feature_2</th>\n",
       "    </tr>\n",
       "  </thead>\n",
       "  <tbody>\n",
       "    <tr>\n",
       "      <th>1</th>\n",
       "      <td>11.401869</td>\n",
       "      <td>0.000000</td>\n",
       "    </tr>\n",
       "    <tr>\n",
       "      <th>2</th>\n",
       "      <td>5.872483</td>\n",
       "      <td>-4.740406</td>\n",
       "    </tr>\n",
       "    <tr>\n",
       "      <th>3</th>\n",
       "      <td>-12.202853</td>\n",
       "      <td>-1.184834</td>\n",
       "    </tr>\n",
       "    <tr>\n",
       "      <th>4</th>\n",
       "      <td>7.942238</td>\n",
       "      <td>-4.316547</td>\n",
       "    </tr>\n",
       "    <tr>\n",
       "      <th>5</th>\n",
       "      <td>-10.367893</td>\n",
       "      <td>-4.511278</td>\n",
       "    </tr>\n",
       "  </tbody>\n",
       "</table>\n",
       "</div>"
      ],
      "text/plain": [
       "   feature_1  feature_2\n",
       "1  11.401869   0.000000\n",
       "2   5.872483  -4.740406\n",
       "3 -12.202853  -1.184834\n",
       "4   7.942238  -4.316547\n",
       "5 -10.367893  -4.511278"
      ]
     },
     "execution_count": 74,
     "metadata": {},
     "output_type": "execute_result"
    }
   ],
   "source": [
    "N,d = compound_data_new.shape\n",
    "compound_data_new_delta = pd.DataFrame(100*np.divide(compound_data_new.iloc[1:,:].values-compound_data_new.iloc[:N-1,:].values, \n",
    "                                   compound_data_new.iloc[:N-1,:].values), columns=compound_data_new.columns, \n",
    "                                   index=compound_data_new.iloc[1:].index)\n",
    "compound_data_new_delta.head()"
   ]
  },
  {
   "cell_type": "markdown",
   "metadata": {},
   "source": [
    "#### Relative Density = Inverse of Distance:"
   ]
  },
  {
   "cell_type": "markdown",
   "metadata": {},
   "source": [
    "##### k=2"
   ]
  },
  {
   "cell_type": "code",
   "execution_count": 75,
   "metadata": {},
   "outputs": [
    {
     "name": "stderr",
     "output_type": "stream",
     "text": [
      "<ipython-input-75-ef115ad02bfd>:5: RuntimeWarning: divide by zero encountered in true_divide\n",
      "  inverse_distances_1 = 1/distances\n"
     ]
    },
    {
     "data": {
      "text/html": [
       "<div>\n",
       "<style scoped>\n",
       "    .dataframe tbody tr th:only-of-type {\n",
       "        vertical-align: middle;\n",
       "    }\n",
       "\n",
       "    .dataframe tbody tr th {\n",
       "        vertical-align: top;\n",
       "    }\n",
       "\n",
       "    .dataframe thead th {\n",
       "        text-align: right;\n",
       "    }\n",
       "</style>\n",
       "<table border=\"1\" class=\"dataframe\">\n",
       "  <thead>\n",
       "    <tr style=\"text-align: right;\">\n",
       "      <th></th>\n",
       "      <th>feature_1</th>\n",
       "      <th>feature_2</th>\n",
       "      <th>Anomaly score</th>\n",
       "    </tr>\n",
       "  </thead>\n",
       "  <tbody>\n",
       "    <tr>\n",
       "      <th>128</th>\n",
       "      <td>-1.408451</td>\n",
       "      <td>-2.461538</td>\n",
       "      <td>24.642691</td>\n",
       "    </tr>\n",
       "    <tr>\n",
       "      <th>330</th>\n",
       "      <td>-1.369863</td>\n",
       "      <td>-2.448980</td>\n",
       "      <td>24.642691</td>\n",
       "    </tr>\n",
       "    <tr>\n",
       "      <th>79</th>\n",
       "      <td>-1.328021</td>\n",
       "      <td>-2.459016</td>\n",
       "      <td>23.240292</td>\n",
       "    </tr>\n",
       "    <tr>\n",
       "      <th>221</th>\n",
       "      <td>-3.110048</td>\n",
       "      <td>-3.910615</td>\n",
       "      <td>23.093965</td>\n",
       "    </tr>\n",
       "    <tr>\n",
       "      <th>277</th>\n",
       "      <td>-3.112840</td>\n",
       "      <td>-3.867403</td>\n",
       "      <td>23.093965</td>\n",
       "    </tr>\n",
       "  </tbody>\n",
       "</table>\n",
       "</div>"
      ],
      "text/plain": [
       "     feature_1  feature_2  Anomaly score\n",
       "128  -1.408451  -2.461538      24.642691\n",
       "330  -1.369863  -2.448980      24.642691\n",
       "79   -1.328021  -2.459016      23.240292\n",
       "221  -3.110048  -3.910615      23.093965\n",
       "277  -3.112840  -3.867403      23.093965"
      ]
     },
     "execution_count": 75,
     "metadata": {},
     "output_type": "execute_result"
    }
   ],
   "source": [
    "knn = 2\n",
    "nbrs = NearestNeighbors(n_neighbors=knn, metric=distance.euclidean).fit(compound_data_new_delta.values)\n",
    "distances, indices = nbrs.kneighbors(compound_data_new_delta.values)\n",
    "\n",
    "inverse_distances_1 = 1/distances\n",
    "anomaly_score_1 = inverse_distances_1[:,knn-1]\n",
    "\n",
    "anom = pd.DataFrame(anomaly_score_1, index=compound_data_new_delta.index, columns=['Anomaly score'])\n",
    "result = pd.concat((compound_data_new_delta,anom), axis=1)\n",
    "result.nlargest(5,'Anomaly score') #top-5 points"
   ]
  },
  {
   "cell_type": "code",
   "execution_count": 76,
   "metadata": {},
   "outputs": [
    {
     "data": {
      "image/png": "[encoded data removed]",
      "text/plain": [
       "<Figure size 720x432 with 2 Axes>"
      ]
     },
     "metadata": {
      "needs_background": "light"
     },
     "output_type": "display_data"
    }
   ],
   "source": [
    "fig = plt.figure(figsize=(10,6))\n",
    "ax = fig.add_subplot(111)\n",
    "p = ax.scatter(compound_data_new_delta.feature_1,compound_data_new_delta.feature_2,c=anomaly_score_1,cmap='jet')\n",
    "ax.set_xlabel('feature_1')\n",
    "ax.set_ylabel('feature_2')\n",
    "fig.colorbar(p)\n",
    "plt.show()"
   ]
  },
  {
   "cell_type": "markdown",
   "metadata": {},
   "source": [
    "##### k=5"
   ]
  },
  {
   "cell_type": "code",
   "execution_count": 77,
   "metadata": {},
   "outputs": [
    {
     "name": "stderr",
     "output_type": "stream",
     "text": [
      "<ipython-input-77-cd8aa23a732c>:5: RuntimeWarning: divide by zero encountered in true_divide\n",
      "  inverse_distances_2 = 1/distances\n"
     ]
    },
    {
     "data": {
      "text/html": [
       "<div>\n",
       "<style scoped>\n",
       "    .dataframe tbody tr th:only-of-type {\n",
       "        vertical-align: middle;\n",
       "    }\n",
       "\n",
       "    .dataframe tbody tr th {\n",
       "        vertical-align: top;\n",
       "    }\n",
       "\n",
       "    .dataframe thead th {\n",
       "        text-align: right;\n",
       "    }\n",
       "</style>\n",
       "<table border=\"1\" class=\"dataframe\">\n",
       "  <thead>\n",
       "    <tr style=\"text-align: right;\">\n",
       "      <th></th>\n",
       "      <th>feature_1</th>\n",
       "      <th>feature_2</th>\n",
       "      <th>Anomaly score</th>\n",
       "    </tr>\n",
       "  </thead>\n",
       "  <tbody>\n",
       "    <tr>\n",
       "      <th>132</th>\n",
       "      <td>1.075269</td>\n",
       "      <td>-2.484472</td>\n",
       "      <td>3.628761</td>\n",
       "    </tr>\n",
       "    <tr>\n",
       "      <th>62</th>\n",
       "      <td>-1.477105</td>\n",
       "      <td>-0.547945</td>\n",
       "      <td>3.405075</td>\n",
       "    </tr>\n",
       "    <tr>\n",
       "      <th>105</th>\n",
       "      <td>-1.499250</td>\n",
       "      <td>-0.586510</td>\n",
       "      <td>3.215318</td>\n",
       "    </tr>\n",
       "    <tr>\n",
       "      <th>116</th>\n",
       "      <td>1.259843</td>\n",
       "      <td>-2.380952</td>\n",
       "      <td>3.208860</td>\n",
       "    </tr>\n",
       "    <tr>\n",
       "      <th>52</th>\n",
       "      <td>-1.369863</td>\n",
       "      <td>-2.046036</td>\n",
       "      <td>3.120812</td>\n",
       "    </tr>\n",
       "  </tbody>\n",
       "</table>\n",
       "</div>"
      ],
      "text/plain": [
       "     feature_1  feature_2  Anomaly score\n",
       "132   1.075269  -2.484472       3.628761\n",
       "62   -1.477105  -0.547945       3.405075\n",
       "105  -1.499250  -0.586510       3.215318\n",
       "116   1.259843  -2.380952       3.208860\n",
       "52   -1.369863  -2.046036       3.120812"
      ]
     },
     "execution_count": 77,
     "metadata": {},
     "output_type": "execute_result"
    }
   ],
   "source": [
    "knn = 5\n",
    "nbrs = NearestNeighbors(n_neighbors=knn, metric=distance.euclidean).fit(compound_data_new_delta.values)\n",
    "distances, indices = nbrs.kneighbors(compound_data_new_delta.values)\n",
    "\n",
    "inverse_distances_2 = 1/distances\n",
    "anomaly_score_2 = inverse_distances_2[:,knn-1]\n",
    "\n",
    "anom = pd.DataFrame(anomaly_score_2, index=compound_data_new_delta.index, columns=['Anomaly score'])\n",
    "result = pd.concat((compound_data_new_delta,anom), axis=1)\n",
    "result.nlargest(5,'Anomaly score') #top-5 points"
   ]
  },
  {
   "cell_type": "code",
   "execution_count": 78,
   "metadata": {},
   "outputs": [
    {
     "data": {
      "image/png": "[encoded data removed]",
      "text/plain": [
       "<Figure size 720x432 with 2 Axes>"
      ]
     },
     "metadata": {
      "needs_background": "light"
     },
     "output_type": "display_data"
    }
   ],
   "source": [
    "fig = plt.figure(figsize=(10,6))\n",
    "ax = fig.add_subplot(111)\n",
    "p = ax.scatter(compound_data_new_delta.feature_1,compound_data_new_delta.feature_2,c=anomaly_score_2,cmap='jet')\n",
    "ax.set_xlabel('feature_1')\n",
    "ax.set_ylabel('feature_2')\n",
    "fig.colorbar(p)\n",
    "plt.show()"
   ]
  },
  {
   "cell_type": "markdown",
   "metadata": {},
   "source": [
    "#### Relative Density = Inverse of Average Distance:"
   ]
  },
  {
   "cell_type": "code",
   "execution_count": 80,
   "metadata": {},
   "outputs": [
    {
     "data": {
      "text/html": [
       "<div>\n",
       "<style scoped>\n",
       "    .dataframe tbody tr th:only-of-type {\n",
       "        vertical-align: middle;\n",
       "    }\n",
       "\n",
       "    .dataframe tbody tr th {\n",
       "        vertical-align: top;\n",
       "    }\n",
       "\n",
       "    .dataframe thead th {\n",
       "        text-align: right;\n",
       "    }\n",
       "</style>\n",
       "<table border=\"1\" class=\"dataframe\">\n",
       "  <thead>\n",
       "    <tr style=\"text-align: right;\">\n",
       "      <th></th>\n",
       "      <th>feature_1</th>\n",
       "      <th>feature_2</th>\n",
       "      <th>Anomaly score</th>\n",
       "    </tr>\n",
       "  </thead>\n",
       "  <tbody>\n",
       "    <tr>\n",
       "      <th>128</th>\n",
       "      <td>-1.408451</td>\n",
       "      <td>-2.461538</td>\n",
       "      <td>13.647238</td>\n",
       "    </tr>\n",
       "    <tr>\n",
       "      <th>330</th>\n",
       "      <td>-1.369863</td>\n",
       "      <td>-2.448980</td>\n",
       "      <td>13.633497</td>\n",
       "    </tr>\n",
       "    <tr>\n",
       "      <th>62</th>\n",
       "      <td>-1.477105</td>\n",
       "      <td>-0.547945</td>\n",
       "      <td>12.945771</td>\n",
       "    </tr>\n",
       "    <tr>\n",
       "      <th>105</th>\n",
       "      <td>-1.499250</td>\n",
       "      <td>-0.586510</td>\n",
       "      <td>12.850893</td>\n",
       "    </tr>\n",
       "    <tr>\n",
       "      <th>79</th>\n",
       "      <td>-1.328021</td>\n",
       "      <td>-2.459016</td>\n",
       "      <td>12.839308</td>\n",
       "    </tr>\n",
       "  </tbody>\n",
       "</table>\n",
       "</div>"
      ],
      "text/plain": [
       "     feature_1  feature_2  Anomaly score\n",
       "128  -1.408451  -2.461538      13.647238\n",
       "330  -1.369863  -2.448980      13.633497\n",
       "62   -1.477105  -0.547945      12.945771\n",
       "105  -1.499250  -0.586510      12.850893\n",
       "79   -1.328021  -2.459016      12.839308"
      ]
     },
     "execution_count": 80,
     "metadata": {},
     "output_type": "execute_result"
    }
   ],
   "source": [
    "anomaly_score_avg = (anomaly_score_1 + anomaly_score_2) / 2\n",
    "\n",
    "anom = pd.DataFrame(anomaly_score_avg, index=compound_data_new_delta.index, columns=['Anomaly score'])\n",
    "result = pd.concat((compound_data_new_delta,anom), axis=1)\n",
    "result.nlargest(5,'Anomaly score') #top-5 points"
   ]
  },
  {
   "cell_type": "code",
   "execution_count": 81,
   "metadata": {
    "scrolled": true
   },
   "outputs": [
    {
     "data": {
      "image/png": "[encoded data removed]",
      "text/plain": [
       "<Figure size 720x432 with 2 Axes>"
      ]
     },
     "metadata": {
      "needs_background": "light"
     },
     "output_type": "display_data"
    }
   ],
   "source": [
    "fig = plt.figure(figsize=(10,6))\n",
    "ax = fig.add_subplot(111)\n",
    "p = ax.scatter(compound_data_new_delta.feature_1,compound_data_new_delta.feature_2,c=anomaly_score_avg,cmap='jet')\n",
    "ax.set_xlabel('feature_1')\n",
    "ax.set_ylabel('feature_2')\n",
    "fig.colorbar(p)\n",
    "plt.show()"
   ]
  },
  {
   "cell_type": "code",
   "execution_count": null,
   "metadata": {},
   "outputs": [],
   "source": []
  },
  {
   "cell_type": "markdown",
   "metadata": {},
   "source": [
    "### Flame Dataset"
   ]
  },
  {
   "cell_type": "code",
   "execution_count": 82,
   "metadata": {},
   "outputs": [
    {
     "data": {
      "text/html": [
       "<div>\n",
       "<style scoped>\n",
       "    .dataframe tbody tr th:only-of-type {\n",
       "        vertical-align: middle;\n",
       "    }\n",
       "\n",
       "    .dataframe tbody tr th {\n",
       "        vertical-align: top;\n",
       "    }\n",
       "\n",
       "    .dataframe thead th {\n",
       "        text-align: right;\n",
       "    }\n",
       "</style>\n",
       "<table border=\"1\" class=\"dataframe\">\n",
       "  <thead>\n",
       "    <tr style=\"text-align: right;\">\n",
       "      <th></th>\n",
       "      <th>feature_1</th>\n",
       "      <th>feature_2</th>\n",
       "    </tr>\n",
       "  </thead>\n",
       "  <tbody>\n",
       "    <tr>\n",
       "      <th>0</th>\n",
       "      <td>1.85</td>\n",
       "      <td>27.80</td>\n",
       "    </tr>\n",
       "    <tr>\n",
       "      <th>1</th>\n",
       "      <td>1.35</td>\n",
       "      <td>26.65</td>\n",
       "    </tr>\n",
       "    <tr>\n",
       "      <th>2</th>\n",
       "      <td>1.40</td>\n",
       "      <td>23.25</td>\n",
       "    </tr>\n",
       "    <tr>\n",
       "      <th>3</th>\n",
       "      <td>0.85</td>\n",
       "      <td>23.05</td>\n",
       "    </tr>\n",
       "    <tr>\n",
       "      <th>4</th>\n",
       "      <td>0.50</td>\n",
       "      <td>22.35</td>\n",
       "    </tr>\n",
       "  </tbody>\n",
       "</table>\n",
       "</div>"
      ],
      "text/plain": [
       "   feature_1  feature_2\n",
       "0       1.85      27.80\n",
       "1       1.35      26.65\n",
       "2       1.40      23.25\n",
       "3       0.85      23.05\n",
       "4       0.50      22.35"
      ]
     },
     "execution_count": 82,
     "metadata": {},
     "output_type": "execute_result"
    }
   ],
   "source": [
    "#importing the data \n",
    "#Load the data\n",
    "flame_data = pd.read_csv(\"../data/flame.txt\", sep=\"\\t\", header = None)\n",
    "flame_data.columns = ['feature_1', 'feature_2', 'class']\n",
    "flame_data_new = flame_data.drop('class', axis=1)\n",
    "flame_data_new.head()"
   ]
  },
  {
   "cell_type": "code",
   "execution_count": 83,
   "metadata": {},
   "outputs": [
    {
     "data": {
      "text/html": [
       "<div>\n",
       "<style scoped>\n",
       "    .dataframe tbody tr th:only-of-type {\n",
       "        vertical-align: middle;\n",
       "    }\n",
       "\n",
       "    .dataframe tbody tr th {\n",
       "        vertical-align: top;\n",
       "    }\n",
       "\n",
       "    .dataframe thead th {\n",
       "        text-align: right;\n",
       "    }\n",
       "</style>\n",
       "<table border=\"1\" class=\"dataframe\">\n",
       "  <thead>\n",
       "    <tr style=\"text-align: right;\">\n",
       "      <th></th>\n",
       "      <th>feature_1</th>\n",
       "      <th>feature_2</th>\n",
       "    </tr>\n",
       "  </thead>\n",
       "  <tbody>\n",
       "    <tr>\n",
       "      <th>1</th>\n",
       "      <td>-27.027027</td>\n",
       "      <td>-4.136691</td>\n",
       "    </tr>\n",
       "    <tr>\n",
       "      <th>2</th>\n",
       "      <td>3.703704</td>\n",
       "      <td>-12.757974</td>\n",
       "    </tr>\n",
       "    <tr>\n",
       "      <th>3</th>\n",
       "      <td>-39.285714</td>\n",
       "      <td>-0.860215</td>\n",
       "    </tr>\n",
       "    <tr>\n",
       "      <th>4</th>\n",
       "      <td>-41.176471</td>\n",
       "      <td>-3.036876</td>\n",
       "    </tr>\n",
       "    <tr>\n",
       "      <th>5</th>\n",
       "      <td>30.000000</td>\n",
       "      <td>-4.474273</td>\n",
       "    </tr>\n",
       "  </tbody>\n",
       "</table>\n",
       "</div>"
      ],
      "text/plain": [
       "   feature_1  feature_2\n",
       "1 -27.027027  -4.136691\n",
       "2   3.703704 -12.757974\n",
       "3 -39.285714  -0.860215\n",
       "4 -41.176471  -3.036876\n",
       "5  30.000000  -4.474273"
      ]
     },
     "execution_count": 83,
     "metadata": {},
     "output_type": "execute_result"
    }
   ],
   "source": [
    "N,d = flame_data_new.shape\n",
    "flame_data_new_delta = pd.DataFrame(100*np.divide(flame_data_new.iloc[1:,:].values-flame_data_new.iloc[:N-1,:].values, \n",
    "                                   flame_data_new.iloc[:N-1,:].values), columns=flame_data_new.columns, \n",
    "                                   index=flame_data_new.iloc[1:].index)\n",
    "flame_data_new_delta.head()"
   ]
  },
  {
   "cell_type": "markdown",
   "metadata": {},
   "source": [
    "#### Relative Density = Inverse of Distance:"
   ]
  },
  {
   "cell_type": "markdown",
   "metadata": {},
   "source": [
    "##### k=2"
   ]
  },
  {
   "cell_type": "code",
   "execution_count": 84,
   "metadata": {},
   "outputs": [
    {
     "name": "stderr",
     "output_type": "stream",
     "text": [
      "<ipython-input-84-8ce9099ea632>:5: RuntimeWarning: divide by zero encountered in true_divide\n",
      "  inverse_distances_1 = 1/distances\n"
     ]
    },
    {
     "data": {
      "text/html": [
       "<div>\n",
       "<style scoped>\n",
       "    .dataframe tbody tr th:only-of-type {\n",
       "        vertical-align: middle;\n",
       "    }\n",
       "\n",
       "    .dataframe tbody tr th {\n",
       "        vertical-align: top;\n",
       "    }\n",
       "\n",
       "    .dataframe thead th {\n",
       "        text-align: right;\n",
       "    }\n",
       "</style>\n",
       "<table border=\"1\" class=\"dataframe\">\n",
       "  <thead>\n",
       "    <tr style=\"text-align: right;\">\n",
       "      <th></th>\n",
       "      <th>feature_1</th>\n",
       "      <th>feature_2</th>\n",
       "      <th>Anomaly score</th>\n",
       "    </tr>\n",
       "  </thead>\n",
       "  <tbody>\n",
       "    <tr>\n",
       "      <th>105</th>\n",
       "      <td>-7.103825</td>\n",
       "      <td>-1.827676</td>\n",
       "      <td>24.425693</td>\n",
       "    </tr>\n",
       "    <tr>\n",
       "      <th>206</th>\n",
       "      <td>-7.070707</td>\n",
       "      <td>-1.803607</td>\n",
       "      <td>24.425693</td>\n",
       "    </tr>\n",
       "    <tr>\n",
       "      <th>72</th>\n",
       "      <td>9.629630</td>\n",
       "      <td>-0.613497</td>\n",
       "      <td>19.546904</td>\n",
       "    </tr>\n",
       "    <tr>\n",
       "      <th>228</th>\n",
       "      <td>9.677419</td>\n",
       "      <td>-0.595238</td>\n",
       "      <td>19.546904</td>\n",
       "    </tr>\n",
       "    <tr>\n",
       "      <th>83</th>\n",
       "      <td>-3.105590</td>\n",
       "      <td>3.030303</td>\n",
       "      <td>14.269081</td>\n",
       "    </tr>\n",
       "  </tbody>\n",
       "</table>\n",
       "</div>"
      ],
      "text/plain": [
       "     feature_1  feature_2  Anomaly score\n",
       "105  -7.103825  -1.827676      24.425693\n",
       "206  -7.070707  -1.803607      24.425693\n",
       "72    9.629630  -0.613497      19.546904\n",
       "228   9.677419  -0.595238      19.546904\n",
       "83   -3.105590   3.030303      14.269081"
      ]
     },
     "execution_count": 84,
     "metadata": {},
     "output_type": "execute_result"
    }
   ],
   "source": [
    "knn = 2\n",
    "nbrs = NearestNeighbors(n_neighbors=knn, metric=distance.euclidean).fit(flame_data_new_delta.values)\n",
    "distances, indices = nbrs.kneighbors(flame_data_new_delta.values)\n",
    "\n",
    "inverse_distances_1 = 1/distances\n",
    "anomaly_score_1 = inverse_distances_1[:,knn-1]\n",
    "\n",
    "anom = pd.DataFrame(anomaly_score_1, index=flame_data_new_delta.index, columns=['Anomaly score'])\n",
    "result = pd.concat((flame_data_new_delta,anom), axis=1)\n",
    "result.nlargest(5,'Anomaly score') #top-5 points"
   ]
  },
  {
   "cell_type": "code",
   "execution_count": 85,
   "metadata": {},
   "outputs": [
    {
     "data": {
      "image/png": "[encoded data removed]",
      "text/plain": [
       "<Figure size 720x432 with 2 Axes>"
      ]
     },
     "metadata": {
      "needs_background": "light"
     },
     "output_type": "display_data"
    }
   ],
   "source": [
    "fig = plt.figure(figsize=(10,6))\n",
    "ax = fig.add_subplot(111)\n",
    "p = ax.scatter(flame_data_new_delta.feature_1,flame_data_new_delta.feature_2,c=anomaly_score_1,cmap='jet')\n",
    "ax.set_xlabel('feature_1')\n",
    "ax.set_ylabel('feature_2')\n",
    "fig.colorbar(p)\n",
    "plt.show()"
   ]
  },
  {
   "cell_type": "markdown",
   "metadata": {},
   "source": [
    "##### k=5"
   ]
  },
  {
   "cell_type": "code",
   "execution_count": 86,
   "metadata": {},
   "outputs": [
    {
     "name": "stderr",
     "output_type": "stream",
     "text": [
      "<ipython-input-86-464b78a461b2>:5: RuntimeWarning: divide by zero encountered in true_divide\n",
      "  inverse_distances_2 = 1/distances\n"
     ]
    },
    {
     "data": {
      "text/html": [
       "<div>\n",
       "<style scoped>\n",
       "    .dataframe tbody tr th:only-of-type {\n",
       "        vertical-align: middle;\n",
       "    }\n",
       "\n",
       "    .dataframe tbody tr th {\n",
       "        vertical-align: top;\n",
       "    }\n",
       "\n",
       "    .dataframe thead th {\n",
       "        text-align: right;\n",
       "    }\n",
       "</style>\n",
       "<table border=\"1\" class=\"dataframe\">\n",
       "  <thead>\n",
       "    <tr style=\"text-align: right;\">\n",
       "      <th></th>\n",
       "      <th>feature_1</th>\n",
       "      <th>feature_2</th>\n",
       "      <th>Anomaly score</th>\n",
       "    </tr>\n",
       "  </thead>\n",
       "  <tbody>\n",
       "    <tr>\n",
       "      <th>50</th>\n",
       "      <td>-7.438017</td>\n",
       "      <td>-2.197802</td>\n",
       "      <td>1.855975</td>\n",
       "    </tr>\n",
       "    <tr>\n",
       "      <th>71</th>\n",
       "      <td>-7.534247</td>\n",
       "      <td>-2.102102</td>\n",
       "      <td>1.813786</td>\n",
       "    </tr>\n",
       "    <tr>\n",
       "      <th>101</th>\n",
       "      <td>-2.955665</td>\n",
       "      <td>2.542373</td>\n",
       "      <td>1.734067</td>\n",
       "    </tr>\n",
       "    <tr>\n",
       "      <th>206</th>\n",
       "      <td>-7.070707</td>\n",
       "      <td>-1.803607</td>\n",
       "      <td>1.726688</td>\n",
       "    </tr>\n",
       "    <tr>\n",
       "      <th>83</th>\n",
       "      <td>-3.105590</td>\n",
       "      <td>3.030303</td>\n",
       "      <td>1.699045</td>\n",
       "    </tr>\n",
       "  </tbody>\n",
       "</table>\n",
       "</div>"
      ],
      "text/plain": [
       "     feature_1  feature_2  Anomaly score\n",
       "50   -7.438017  -2.197802       1.855975\n",
       "71   -7.534247  -2.102102       1.813786\n",
       "101  -2.955665   2.542373       1.734067\n",
       "206  -7.070707  -1.803607       1.726688\n",
       "83   -3.105590   3.030303       1.699045"
      ]
     },
     "execution_count": 86,
     "metadata": {},
     "output_type": "execute_result"
    }
   ],
   "source": [
    "knn = 5\n",
    "nbrs = NearestNeighbors(n_neighbors=knn, metric=distance.euclidean).fit(flame_data_new_delta.values)\n",
    "distances, indices = nbrs.kneighbors(flame_data_new_delta.values)\n",
    "\n",
    "inverse_distances_2 = 1/distances\n",
    "anomaly_score_2 = inverse_distances_2[:,knn-1]\n",
    "\n",
    "anom = pd.DataFrame(anomaly_score_2, index=flame_data_new_delta.index, columns=['Anomaly score'])\n",
    "result = pd.concat((flame_data_new_delta,anom), axis=1)\n",
    "result.nlargest(5,'Anomaly score') #top-5 points"
   ]
  },
  {
   "cell_type": "code",
   "execution_count": 87,
   "metadata": {},
   "outputs": [
    {
     "data": {
      "image/png": "[encoded data removed]",
      "text/plain": [
       "<Figure size 720x432 with 2 Axes>"
      ]
     },
     "metadata": {
      "needs_background": "light"
     },
     "output_type": "display_data"
    }
   ],
   "source": [
    "fig = plt.figure(figsize=(10,6))\n",
    "ax = fig.add_subplot(111)\n",
    "p = ax.scatter(flame_data_new_delta.feature_1,flame_data_new_delta.feature_2,c=anomaly_score_2,cmap='jet')\n",
    "ax.set_xlabel('feature_1')\n",
    "ax.set_ylabel('feature_2')\n",
    "fig.colorbar(p)\n",
    "plt.show()"
   ]
  },
  {
   "cell_type": "markdown",
   "metadata": {},
   "source": [
    "#### Relative Density = Inverse of Average Distance:"
   ]
  },
  {
   "cell_type": "code",
   "execution_count": 88,
   "metadata": {},
   "outputs": [
    {
     "data": {
      "text/html": [
       "<div>\n",
       "<style scoped>\n",
       "    .dataframe tbody tr th:only-of-type {\n",
       "        vertical-align: middle;\n",
       "    }\n",
       "\n",
       "    .dataframe tbody tr th {\n",
       "        vertical-align: top;\n",
       "    }\n",
       "\n",
       "    .dataframe thead th {\n",
       "        text-align: right;\n",
       "    }\n",
       "</style>\n",
       "<table border=\"1\" class=\"dataframe\">\n",
       "  <thead>\n",
       "    <tr style=\"text-align: right;\">\n",
       "      <th></th>\n",
       "      <th>feature_1</th>\n",
       "      <th>feature_2</th>\n",
       "      <th>Anomaly score</th>\n",
       "    </tr>\n",
       "  </thead>\n",
       "  <tbody>\n",
       "    <tr>\n",
       "      <th>206</th>\n",
       "      <td>-7.070707</td>\n",
       "      <td>-1.803607</td>\n",
       "      <td>13.076190</td>\n",
       "    </tr>\n",
       "    <tr>\n",
       "      <th>105</th>\n",
       "      <td>-7.103825</td>\n",
       "      <td>-1.827676</td>\n",
       "      <td>13.040085</td>\n",
       "    </tr>\n",
       "    <tr>\n",
       "      <th>72</th>\n",
       "      <td>9.629630</td>\n",
       "      <td>-0.613497</td>\n",
       "      <td>10.428299</td>\n",
       "    </tr>\n",
       "    <tr>\n",
       "      <th>228</th>\n",
       "      <td>9.677419</td>\n",
       "      <td>-0.595238</td>\n",
       "      <td>10.401823</td>\n",
       "    </tr>\n",
       "    <tr>\n",
       "      <th>83</th>\n",
       "      <td>-3.105590</td>\n",
       "      <td>3.030303</td>\n",
       "      <td>7.984063</td>\n",
       "    </tr>\n",
       "  </tbody>\n",
       "</table>\n",
       "</div>"
      ],
      "text/plain": [
       "     feature_1  feature_2  Anomaly score\n",
       "206  -7.070707  -1.803607      13.076190\n",
       "105  -7.103825  -1.827676      13.040085\n",
       "72    9.629630  -0.613497      10.428299\n",
       "228   9.677419  -0.595238      10.401823\n",
       "83   -3.105590   3.030303       7.984063"
      ]
     },
     "execution_count": 88,
     "metadata": {},
     "output_type": "execute_result"
    }
   ],
   "source": [
    "anomaly_score_avg = (anomaly_score_1 + anomaly_score_2) / 2\n",
    "\n",
    "anom = pd.DataFrame(anomaly_score_avg, index=flame_data_new_delta.index, columns=['Anomaly score'])\n",
    "result = pd.concat((flame_data_new_delta,anom), axis=1)\n",
    "result.nlargest(5,'Anomaly score') #top-5 points"
   ]
  },
  {
   "cell_type": "code",
   "execution_count": 90,
   "metadata": {
    "scrolled": true
   },
   "outputs": [
    {
     "data": {
      "image/png": "[encoded data removed]",
      "text/plain": [
       "<Figure size 720x432 with 2 Axes>"
      ]
     },
     "metadata": {
      "needs_background": "light"
     },
     "output_type": "display_data"
    }
   ],
   "source": [
    "fig = plt.figure(figsize=(10,6))\n",
    "ax = fig.add_subplot(111)\n",
    "p = ax.scatter(flame_data_new_delta.feature_1,flame_data_new_delta.feature_2,c=anomaly_score_avg,cmap='jet')\n",
    "ax.set_xlabel('feature_1')\n",
    "ax.set_ylabel('feature_2')\n",
    "fig.colorbar(p)\n",
    "plt.show()"
   ]
  },
  {
   "cell_type": "code",
   "execution_count": null,
   "metadata": {},
   "outputs": [],
   "source": []
  },
  {
   "cell_type": "markdown",
   "metadata": {},
   "source": [
    "### Pathbased Dataset"
   ]
  },
  {
   "cell_type": "code",
   "execution_count": 91,
   "metadata": {},
   "outputs": [
    {
     "data": {
      "text/html": [
       "<div>\n",
       "<style scoped>\n",
       "    .dataframe tbody tr th:only-of-type {\n",
       "        vertical-align: middle;\n",
       "    }\n",
       "\n",
       "    .dataframe tbody tr th {\n",
       "        vertical-align: top;\n",
       "    }\n",
       "\n",
       "    .dataframe thead th {\n",
       "        text-align: right;\n",
       "    }\n",
       "</style>\n",
       "<table border=\"1\" class=\"dataframe\">\n",
       "  <thead>\n",
       "    <tr style=\"text-align: right;\">\n",
       "      <th></th>\n",
       "      <th>feature_1</th>\n",
       "      <th>feature_2</th>\n",
       "    </tr>\n",
       "  </thead>\n",
       "  <tbody>\n",
       "    <tr>\n",
       "      <th>0</th>\n",
       "      <td>11.25</td>\n",
       "      <td>5.05</td>\n",
       "    </tr>\n",
       "    <tr>\n",
       "      <th>1</th>\n",
       "      <td>10.95</td>\n",
       "      <td>4.70</td>\n",
       "    </tr>\n",
       "    <tr>\n",
       "      <th>2</th>\n",
       "      <td>9.85</td>\n",
       "      <td>5.80</td>\n",
       "    </tr>\n",
       "    <tr>\n",
       "      <th>3</th>\n",
       "      <td>9.80</td>\n",
       "      <td>5.75</td>\n",
       "    </tr>\n",
       "    <tr>\n",
       "      <th>4</th>\n",
       "      <td>9.15</td>\n",
       "      <td>6.80</td>\n",
       "    </tr>\n",
       "  </tbody>\n",
       "</table>\n",
       "</div>"
      ],
      "text/plain": [
       "   feature_1  feature_2\n",
       "0      11.25       5.05\n",
       "1      10.95       4.70\n",
       "2       9.85       5.80\n",
       "3       9.80       5.75\n",
       "4       9.15       6.80"
      ]
     },
     "execution_count": 91,
     "metadata": {},
     "output_type": "execute_result"
    }
   ],
   "source": [
    "#importing the data \n",
    "#Load the data\n",
    "pathbased_data = pd.read_csv(\"../data/pathbased.txt\", sep=\"\\t\", header = None)\n",
    "pathbased_data.columns = ['feature_1', 'feature_2', 'class']\n",
    "pathbased_data_new = pathbased_data.drop('class', axis=1)\n",
    "pathbased_data_new.head()"
   ]
  },
  {
   "cell_type": "code",
   "execution_count": 92,
   "metadata": {},
   "outputs": [
    {
     "data": {
      "text/html": [
       "<div>\n",
       "<style scoped>\n",
       "    .dataframe tbody tr th:only-of-type {\n",
       "        vertical-align: middle;\n",
       "    }\n",
       "\n",
       "    .dataframe tbody tr th {\n",
       "        vertical-align: top;\n",
       "    }\n",
       "\n",
       "    .dataframe thead th {\n",
       "        text-align: right;\n",
       "    }\n",
       "</style>\n",
       "<table border=\"1\" class=\"dataframe\">\n",
       "  <thead>\n",
       "    <tr style=\"text-align: right;\">\n",
       "      <th></th>\n",
       "      <th>feature_1</th>\n",
       "      <th>feature_2</th>\n",
       "    </tr>\n",
       "  </thead>\n",
       "  <tbody>\n",
       "    <tr>\n",
       "      <th>1</th>\n",
       "      <td>-2.666667</td>\n",
       "      <td>-6.930693</td>\n",
       "    </tr>\n",
       "    <tr>\n",
       "      <th>2</th>\n",
       "      <td>-10.045662</td>\n",
       "      <td>23.404255</td>\n",
       "    </tr>\n",
       "    <tr>\n",
       "      <th>3</th>\n",
       "      <td>-0.507614</td>\n",
       "      <td>-0.862069</td>\n",
       "    </tr>\n",
       "    <tr>\n",
       "      <th>4</th>\n",
       "      <td>-6.632653</td>\n",
       "      <td>18.260870</td>\n",
       "    </tr>\n",
       "    <tr>\n",
       "      <th>5</th>\n",
       "      <td>-5.464481</td>\n",
       "      <td>-2.941176</td>\n",
       "    </tr>\n",
       "  </tbody>\n",
       "</table>\n",
       "</div>"
      ],
      "text/plain": [
       "   feature_1  feature_2\n",
       "1  -2.666667  -6.930693\n",
       "2 -10.045662  23.404255\n",
       "3  -0.507614  -0.862069\n",
       "4  -6.632653  18.260870\n",
       "5  -5.464481  -2.941176"
      ]
     },
     "execution_count": 92,
     "metadata": {},
     "output_type": "execute_result"
    }
   ],
   "source": [
    "N,d = pathbased_data_new.shape\n",
    "pathbased_data_new_delta = pd.DataFrame(100*np.divide(pathbased_data_new.iloc[1:,:].values-pathbased_data_new.iloc[:N-1,:].values, \n",
    "                                   pathbased_data_new.iloc[:N-1,:].values), columns=pathbased_data_new.columns, \n",
    "                                   index=pathbased_data_new.iloc[1:].index)\n",
    "pathbased_data_new_delta.head()"
   ]
  },
  {
   "cell_type": "markdown",
   "metadata": {},
   "source": [
    "#### Relative Density = Inverse of Distance:"
   ]
  },
  {
   "cell_type": "markdown",
   "metadata": {},
   "source": [
    "##### k=2"
   ]
  },
  {
   "cell_type": "code",
   "execution_count": 93,
   "metadata": {},
   "outputs": [
    {
     "name": "stderr",
     "output_type": "stream",
     "text": [
      "<ipython-input-93-d4760d58b7ee>:5: RuntimeWarning: divide by zero encountered in true_divide\n",
      "  inverse_distances_1 = 1/distances\n"
     ]
    },
    {
     "data": {
      "text/html": [
       "<div>\n",
       "<style scoped>\n",
       "    .dataframe tbody tr th:only-of-type {\n",
       "        vertical-align: middle;\n",
       "    }\n",
       "\n",
       "    .dataframe tbody tr th {\n",
       "        vertical-align: top;\n",
       "    }\n",
       "\n",
       "    .dataframe thead th {\n",
       "        text-align: right;\n",
       "    }\n",
       "</style>\n",
       "<table border=\"1\" class=\"dataframe\">\n",
       "  <thead>\n",
       "    <tr style=\"text-align: right;\">\n",
       "      <th></th>\n",
       "      <th>feature_1</th>\n",
       "      <th>feature_2</th>\n",
       "      <th>Anomaly score</th>\n",
       "    </tr>\n",
       "  </thead>\n",
       "  <tbody>\n",
       "    <tr>\n",
       "      <th>154</th>\n",
       "      <td>0.980392</td>\n",
       "      <td>0.898204</td>\n",
       "      <td>27.384061</td>\n",
       "    </tr>\n",
       "    <tr>\n",
       "      <th>289</th>\n",
       "      <td>0.983607</td>\n",
       "      <td>0.934579</td>\n",
       "      <td>27.384061</td>\n",
       "    </tr>\n",
       "    <tr>\n",
       "      <th>47</th>\n",
       "      <td>0.000000</td>\n",
       "      <td>2.138158</td>\n",
       "      <td>23.613023</td>\n",
       "    </tr>\n",
       "    <tr>\n",
       "      <th>284</th>\n",
       "      <td>0.000000</td>\n",
       "      <td>2.095808</td>\n",
       "      <td>23.613023</td>\n",
       "    </tr>\n",
       "    <tr>\n",
       "      <th>127</th>\n",
       "      <td>0.199203</td>\n",
       "      <td>2.040816</td>\n",
       "      <td>23.278854</td>\n",
       "    </tr>\n",
       "  </tbody>\n",
       "</table>\n",
       "</div>"
      ],
      "text/plain": [
       "     feature_1  feature_2  Anomaly score\n",
       "154   0.980392   0.898204      27.384061\n",
       "289   0.983607   0.934579      27.384061\n",
       "47    0.000000   2.138158      23.613023\n",
       "284   0.000000   2.095808      23.613023\n",
       "127   0.199203   2.040816      23.278854"
      ]
     },
     "execution_count": 93,
     "metadata": {},
     "output_type": "execute_result"
    }
   ],
   "source": [
    "knn = 2\n",
    "nbrs = NearestNeighbors(n_neighbors=knn, metric=distance.euclidean).fit(pathbased_data_new_delta.values)\n",
    "distances, indices = nbrs.kneighbors(pathbased_data_new_delta.values)\n",
    "\n",
    "inverse_distances_1 = 1/distances\n",
    "anomaly_score_1 = inverse_distances_1[:,knn-1]\n",
    "\n",
    "anom = pd.DataFrame(anomaly_score_1, index=pathbased_data_new_delta.index, columns=['Anomaly score'])\n",
    "result = pd.concat((pathbased_data_new_delta,anom), axis=1)\n",
    "result.nlargest(5,'Anomaly score') #top-5 points"
   ]
  },
  {
   "cell_type": "code",
   "execution_count": 94,
   "metadata": {},
   "outputs": [
    {
     "data": {
      "image/png": "[encoded data removed]",
      "text/plain": [
       "<Figure size 720x432 with 2 Axes>"
      ]
     },
     "metadata": {
      "needs_background": "light"
     },
     "output_type": "display_data"
    }
   ],
   "source": [
    "fig = plt.figure(figsize=(10,6))\n",
    "ax = fig.add_subplot(111)\n",
    "p = ax.scatter(pathbased_data_new_delta.feature_1,pathbased_data_new_delta.feature_2,c=anomaly_score_1,cmap='jet')\n",
    "ax.set_xlabel('feature_1')\n",
    "ax.set_ylabel('feature_2')\n",
    "fig.colorbar(p)\n",
    "plt.show()"
   ]
  },
  {
   "cell_type": "markdown",
   "metadata": {},
   "source": [
    "##### k=5"
   ]
  },
  {
   "cell_type": "code",
   "execution_count": 95,
   "metadata": {},
   "outputs": [
    {
     "name": "stderr",
     "output_type": "stream",
     "text": [
      "<ipython-input-95-6c8237f24220>:5: RuntimeWarning: divide by zero encountered in true_divide\n",
      "  inverse_distances_2 = 1/distances\n"
     ]
    },
    {
     "data": {
      "text/html": [
       "<div>\n",
       "<style scoped>\n",
       "    .dataframe tbody tr th:only-of-type {\n",
       "        vertical-align: middle;\n",
       "    }\n",
       "\n",
       "    .dataframe tbody tr th {\n",
       "        vertical-align: top;\n",
       "    }\n",
       "\n",
       "    .dataframe thead th {\n",
       "        text-align: right;\n",
       "    }\n",
       "</style>\n",
       "<table border=\"1\" class=\"dataframe\">\n",
       "  <thead>\n",
       "    <tr style=\"text-align: right;\">\n",
       "      <th></th>\n",
       "      <th>feature_1</th>\n",
       "      <th>feature_2</th>\n",
       "      <th>Anomaly score</th>\n",
       "    </tr>\n",
       "  </thead>\n",
       "  <tbody>\n",
       "    <tr>\n",
       "      <th>47</th>\n",
       "      <td>0.000000</td>\n",
       "      <td>2.138158</td>\n",
       "      <td>3.740550</td>\n",
       "    </tr>\n",
       "    <tr>\n",
       "      <th>284</th>\n",
       "      <td>0.000000</td>\n",
       "      <td>2.095808</td>\n",
       "      <td>3.229037</td>\n",
       "    </tr>\n",
       "    <tr>\n",
       "      <th>220</th>\n",
       "      <td>2.403846</td>\n",
       "      <td>0.000000</td>\n",
       "      <td>3.149073</td>\n",
       "    </tr>\n",
       "    <tr>\n",
       "      <th>221</th>\n",
       "      <td>2.347418</td>\n",
       "      <td>-0.312500</td>\n",
       "      <td>3.101511</td>\n",
       "    </tr>\n",
       "    <tr>\n",
       "      <th>151</th>\n",
       "      <td>2.268041</td>\n",
       "      <td>0.000000</td>\n",
       "      <td>2.989707</td>\n",
       "    </tr>\n",
       "  </tbody>\n",
       "</table>\n",
       "</div>"
      ],
      "text/plain": [
       "     feature_1  feature_2  Anomaly score\n",
       "47    0.000000   2.138158       3.740550\n",
       "284   0.000000   2.095808       3.229037\n",
       "220   2.403846   0.000000       3.149073\n",
       "221   2.347418  -0.312500       3.101511\n",
       "151   2.268041   0.000000       2.989707"
      ]
     },
     "execution_count": 95,
     "metadata": {},
     "output_type": "execute_result"
    }
   ],
   "source": [
    "knn = 5\n",
    "nbrs = NearestNeighbors(n_neighbors=knn, metric=distance.euclidean).fit(pathbased_data_new_delta.values)\n",
    "distances, indices = nbrs.kneighbors(pathbased_data_new_delta.values)\n",
    "\n",
    "inverse_distances_2 = 1/distances\n",
    "anomaly_score_2 = inverse_distances_2[:,knn-1]\n",
    "\n",
    "anom = pd.DataFrame(anomaly_score_2, index=pathbased_data_new_delta.index, columns=['Anomaly score'])\n",
    "result = pd.concat((pathbased_data_new_delta,anom), axis=1)\n",
    "result.nlargest(5,'Anomaly score') #top-5 points"
   ]
  },
  {
   "cell_type": "code",
   "execution_count": 96,
   "metadata": {},
   "outputs": [
    {
     "data": {
      "image/png": "[encoded data removed]",
      "text/plain": [
       "<Figure size 720x432 with 2 Axes>"
      ]
     },
     "metadata": {
      "needs_background": "light"
     },
     "output_type": "display_data"
    }
   ],
   "source": [
    "fig = plt.figure(figsize=(10,6))\n",
    "ax = fig.add_subplot(111)\n",
    "p = ax.scatter(pathbased_data_new_delta.feature_1,pathbased_data_new_delta.feature_2,c=anomaly_score_2,cmap='jet')\n",
    "ax.set_xlabel('feature_1')\n",
    "ax.set_ylabel('feature_2')\n",
    "fig.colorbar(p)\n",
    "plt.show()"
   ]
  },
  {
   "cell_type": "markdown",
   "metadata": {},
   "source": [
    "#### Relative Density = Inverse of Average Distance:"
   ]
  },
  {
   "cell_type": "code",
   "execution_count": 97,
   "metadata": {},
   "outputs": [
    {
     "data": {
      "text/html": [
       "<div>\n",
       "<style scoped>\n",
       "    .dataframe tbody tr th:only-of-type {\n",
       "        vertical-align: middle;\n",
       "    }\n",
       "\n",
       "    .dataframe tbody tr th {\n",
       "        vertical-align: top;\n",
       "    }\n",
       "\n",
       "    .dataframe thead th {\n",
       "        text-align: right;\n",
       "    }\n",
       "</style>\n",
       "<table border=\"1\" class=\"dataframe\">\n",
       "  <thead>\n",
       "    <tr style=\"text-align: right;\">\n",
       "      <th></th>\n",
       "      <th>feature_1</th>\n",
       "      <th>feature_2</th>\n",
       "      <th>Anomaly score</th>\n",
       "    </tr>\n",
       "  </thead>\n",
       "  <tbody>\n",
       "    <tr>\n",
       "      <th>289</th>\n",
       "      <td>0.983607</td>\n",
       "      <td>0.934579</td>\n",
       "      <td>14.566197</td>\n",
       "    </tr>\n",
       "    <tr>\n",
       "      <th>154</th>\n",
       "      <td>0.980392</td>\n",
       "      <td>0.898204</td>\n",
       "      <td>14.565174</td>\n",
       "    </tr>\n",
       "    <tr>\n",
       "      <th>47</th>\n",
       "      <td>0.000000</td>\n",
       "      <td>2.138158</td>\n",
       "      <td>13.676786</td>\n",
       "    </tr>\n",
       "    <tr>\n",
       "      <th>284</th>\n",
       "      <td>0.000000</td>\n",
       "      <td>2.095808</td>\n",
       "      <td>13.421030</td>\n",
       "    </tr>\n",
       "    <tr>\n",
       "      <th>183</th>\n",
       "      <td>0.205339</td>\n",
       "      <td>2.083333</td>\n",
       "      <td>12.948192</td>\n",
       "    </tr>\n",
       "  </tbody>\n",
       "</table>\n",
       "</div>"
      ],
      "text/plain": [
       "     feature_1  feature_2  Anomaly score\n",
       "289   0.983607   0.934579      14.566197\n",
       "154   0.980392   0.898204      14.565174\n",
       "47    0.000000   2.138158      13.676786\n",
       "284   0.000000   2.095808      13.421030\n",
       "183   0.205339   2.083333      12.948192"
      ]
     },
     "execution_count": 97,
     "metadata": {},
     "output_type": "execute_result"
    }
   ],
   "source": [
    "anomaly_score_avg = (anomaly_score_1 + anomaly_score_2) / 2\n",
    "\n",
    "anom = pd.DataFrame(anomaly_score_avg, index=pathbased_data_new_delta.index, columns=['Anomaly score'])\n",
    "result = pd.concat((pathbased_data_new_delta,anom), axis=1)\n",
    "result.nlargest(5,'Anomaly score') #top-5 points"
   ]
  },
  {
   "cell_type": "code",
   "execution_count": 98,
   "metadata": {
    "scrolled": true
   },
   "outputs": [
    {
     "data": {
      "image/png": "[encoded data removed]",
      "text/plain": [
       "<Figure size 720x432 with 2 Axes>"
      ]
     },
     "metadata": {
      "needs_background": "light"
     },
     "output_type": "display_data"
    }
   ],
   "source": [
    "fig = plt.figure(figsize=(10,6))\n",
    "ax = fig.add_subplot(111)\n",
    "p = ax.scatter(pathbased_data_new_delta.feature_1,pathbased_data_new_delta.feature_2,c=anomaly_score_avg,cmap='jet')\n",
    "ax.set_xlabel('feature_1')\n",
    "ax.set_ylabel('feature_2')\n",
    "fig.colorbar(p)\n",
    "plt.show()"
   ]
  },
  {
   "cell_type": "code",
   "execution_count": null,
   "metadata": {},
   "outputs": [],
   "source": []
  }
 ],
 "metadata": {
  "kernelspec": {
   "display_name": "Python 3",
   "language": "python",
   "name": "python3"
  },
  "language_info": {
   "codemirror_mode": {
    "name": "ipython",
    "version": 3
   },
   "file_extension": ".py",
   "mimetype": "text/x-python",
   "name": "python",
   "nbconvert_exporter": "python",
   "pygments_lexer": "ipython3",
   "version": "3.8.3"
  }
 },
 "nbformat": 4,
 "nbformat_minor": 4
}
